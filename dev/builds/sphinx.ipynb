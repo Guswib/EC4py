{
 "cells": [
  {
   "cell_type": "code",
   "execution_count": 1,
   "metadata": {},
   "outputs": [
    {
     "name": "stdout",
     "output_type": "stream",
     "text": [
      "Collecting sphinx\n",
      "  Downloading sphinx-8.0.2-py3-none-any.whl.metadata (6.2 kB)\n",
      "Collecting sphinxcontrib-applehelp (from sphinx)\n",
      "  Downloading sphinxcontrib_applehelp-2.0.0-py3-none-any.whl.metadata (2.3 kB)\n",
      "Collecting sphinxcontrib-devhelp (from sphinx)\n",
      "  Downloading sphinxcontrib_devhelp-2.0.0-py3-none-any.whl.metadata (2.3 kB)\n",
      "Collecting sphinxcontrib-jsmath (from sphinx)\n",
      "  Downloading sphinxcontrib_jsmath-1.0.1-py2.py3-none-any.whl.metadata (1.4 kB)\n",
      "Collecting sphinxcontrib-htmlhelp>=2.0.0 (from sphinx)\n",
      "  Downloading sphinxcontrib_htmlhelp-2.1.0-py3-none-any.whl.metadata (2.3 kB)\n",
      "Collecting sphinxcontrib-serializinghtml>=1.1.9 (from sphinx)\n",
      "  Downloading sphinxcontrib_serializinghtml-2.0.0-py3-none-any.whl.metadata (2.4 kB)\n",
      "Collecting sphinxcontrib-qthelp (from sphinx)\n",
      "  Downloading sphinxcontrib_qthelp-2.0.0-py3-none-any.whl.metadata (2.3 kB)\n",
      "Collecting Jinja2>=3.1 (from sphinx)\n",
      "  Downloading jinja2-3.1.4-py3-none-any.whl.metadata (2.6 kB)\n",
      "Requirement already satisfied: Pygments>=2.17 in c:\\users\\gusta\\documents\\github\\nordicec\\ec4py\\.venv\\lib\\site-packages (from sphinx) (2.18.0)\n",
      "Collecting docutils<0.22,>=0.20 (from sphinx)\n",
      "  Downloading docutils-0.21.2-py3-none-any.whl.metadata (2.8 kB)\n",
      "Collecting snowballstemmer>=2.2 (from sphinx)\n",
      "  Downloading snowballstemmer-2.2.0-py2.py3-none-any.whl.metadata (6.5 kB)\n",
      "Collecting babel>=2.13 (from sphinx)\n",
      "  Downloading babel-2.16.0-py3-none-any.whl.metadata (1.5 kB)\n",
      "Collecting alabaster>=0.7.14 (from sphinx)\n",
      "  Downloading alabaster-1.0.0-py3-none-any.whl.metadata (2.8 kB)\n",
      "Collecting imagesize>=1.3 (from sphinx)\n",
      "  Downloading imagesize-1.4.1-py2.py3-none-any.whl.metadata (1.5 kB)\n",
      "Collecting requests>=2.30.0 (from sphinx)\n",
      "  Downloading requests-2.32.3-py3-none-any.whl.metadata (4.6 kB)\n",
      "Requirement already satisfied: packaging>=23.0 in c:\\users\\gusta\\documents\\github\\nordicec\\ec4py\\.venv\\lib\\site-packages (from sphinx) (24.1)\n",
      "Requirement already satisfied: colorama>=0.4.6 in c:\\users\\gusta\\documents\\github\\nordicec\\ec4py\\.venv\\lib\\site-packages (from sphinx) (0.4.6)\n",
      "Collecting MarkupSafe>=2.0 (from Jinja2>=3.1->sphinx)\n",
      "  Downloading MarkupSafe-2.1.5-cp312-cp312-win_amd64.whl.metadata (3.1 kB)\n",
      "Collecting charset-normalizer<4,>=2 (from requests>=2.30.0->sphinx)\n",
      "  Downloading charset_normalizer-3.3.2-cp312-cp312-win_amd64.whl.metadata (34 kB)\n",
      "Collecting idna<4,>=2.5 (from requests>=2.30.0->sphinx)\n",
      "  Downloading idna-3.8-py3-none-any.whl.metadata (9.9 kB)\n",
      "Collecting urllib3<3,>=1.21.1 (from requests>=2.30.0->sphinx)\n",
      "  Downloading urllib3-2.2.2-py3-none-any.whl.metadata (6.4 kB)\n",
      "Collecting certifi>=2017.4.17 (from requests>=2.30.0->sphinx)\n",
      "  Downloading certifi-2024.8.30-py3-none-any.whl.metadata (2.2 kB)\n",
      "Downloading sphinx-8.0.2-py3-none-any.whl (3.5 MB)\n",
      "   ---------------------------------------- 0.0/3.5 MB ? eta -:--:--\n",
      "   -- ------------------------------------- 0.3/3.5 MB ? eta -:--:--\n",
      "   ----- ---------------------------------- 0.5/3.5 MB 1.4 MB/s eta 0:00:03\n",
      "   -------- ------------------------------- 0.8/3.5 MB 1.5 MB/s eta 0:00:02\n",
      "   ----------- ---------------------------- 1.0/3.5 MB 1.5 MB/s eta 0:00:02\n",
      "   ----------------- ---------------------- 1.6/3.5 MB 1.6 MB/s eta 0:00:02\n",
      "   -------------------- ------------------- 1.8/3.5 MB 1.5 MB/s eta 0:00:02\n",
      "   ----------------------- ---------------- 2.1/3.5 MB 1.5 MB/s eta 0:00:01\n",
      "   -------------------------- ------------- 2.4/3.5 MB 1.5 MB/s eta 0:00:01\n",
      "   ----------------------------- ---------- 2.6/3.5 MB 1.5 MB/s eta 0:00:01\n",
      "   -------------------------------- ------- 2.9/3.5 MB 1.5 MB/s eta 0:00:01\n",
      "   -------------------------------------- - 3.4/3.5 MB 1.5 MB/s eta 0:00:01\n",
      "   ---------------------------------------- 3.5/3.5 MB 1.5 MB/s eta 0:00:00\n",
      "Downloading alabaster-1.0.0-py3-none-any.whl (13 kB)\n",
      "Downloading babel-2.16.0-py3-none-any.whl (9.6 MB)\n",
      "   ---------------------------------------- 0.0/9.6 MB ? eta -:--:--\n",
      "   - -------------------------------------- 0.3/9.6 MB ? eta -:--:--\n",
      "   -- ------------------------------------- 0.5/9.6 MB 1.5 MB/s eta 0:00:06\n",
      "   --- ------------------------------------ 0.8/9.6 MB 1.4 MB/s eta 0:00:07\n",
      "   ---- ----------------------------------- 1.0/9.6 MB 1.4 MB/s eta 0:00:06\n",
      "   ----- ---------------------------------- 1.3/9.6 MB 1.5 MB/s eta 0:00:06\n",
      "   ------- -------------------------------- 1.8/9.6 MB 1.5 MB/s eta 0:00:06\n",
      "   -------- ------------------------------- 2.1/9.6 MB 1.5 MB/s eta 0:00:06\n",
      "   --------- ------------------------------ 2.4/9.6 MB 1.5 MB/s eta 0:00:05\n",
      "   ---------- ----------------------------- 2.6/9.6 MB 1.5 MB/s eta 0:00:05\n",
      "   ------------ --------------------------- 2.9/9.6 MB 1.5 MB/s eta 0:00:05\n",
      "   -------------- ------------------------- 3.4/9.6 MB 1.5 MB/s eta 0:00:05\n",
      "   --------------- ------------------------ 3.7/9.6 MB 1.5 MB/s eta 0:00:04\n",
      "   ---------------- ----------------------- 3.9/9.6 MB 1.5 MB/s eta 0:00:04\n",
      "   ----------------- ---------------------- 4.2/9.6 MB 1.5 MB/s eta 0:00:04\n",
      "   ------------------ --------------------- 4.5/9.6 MB 1.5 MB/s eta 0:00:04\n",
      "   -------------------- ------------------- 5.0/9.6 MB 1.5 MB/s eta 0:00:04\n",
      "   --------------------- ------------------ 5.2/9.6 MB 1.5 MB/s eta 0:00:03\n",
      "   ---------------------- ----------------- 5.5/9.6 MB 1.5 MB/s eta 0:00:03\n",
      "   ------------------------ --------------- 5.8/9.6 MB 1.5 MB/s eta 0:00:03\n",
      "   -------------------------- ------------- 6.3/9.6 MB 1.5 MB/s eta 0:00:03\n",
      "   --------------------------- ------------ 6.6/9.6 MB 1.5 MB/s eta 0:00:03\n",
      "   ---------------------------- ----------- 6.8/9.6 MB 1.5 MB/s eta 0:00:02\n",
      "   ----------------------------- ---------- 7.1/9.6 MB 1.5 MB/s eta 0:00:02\n",
      "   ------------------------------ --------- 7.3/9.6 MB 1.5 MB/s eta 0:00:02\n",
      "   ------------------------------- -------- 7.6/9.6 MB 1.5 MB/s eta 0:00:02\n",
      "   --------------------------------- ------ 8.1/9.6 MB 1.5 MB/s eta 0:00:01\n",
      "   ---------------------------------- ----- 8.4/9.6 MB 1.5 MB/s eta 0:00:01\n",
      "   ------------------------------------ --- 8.7/9.6 MB 1.5 MB/s eta 0:00:01\n",
      "   ------------------------------------- -- 8.9/9.6 MB 1.5 MB/s eta 0:00:01\n",
      "   ---------------------------------------  9.4/9.6 MB 1.5 MB/s eta 0:00:01\n",
      "   ---------------------------------------- 9.6/9.6 MB 1.5 MB/s eta 0:00:00\n",
      "Downloading docutils-0.21.2-py3-none-any.whl (587 kB)\n",
      "   ---------------------------------------- 0.0/587.4 kB ? eta -:--:--\n",
      "   ----------------- ---------------------- 262.1/587.4 kB ? eta -:--:--\n",
      "   ----------------------------------- ---- 524.3/587.4 kB 1.7 MB/s eta 0:00:01\n",
      "   ---------------------------------------- 587.4/587.4 kB 1.3 MB/s eta 0:00:00\n",
      "Downloading imagesize-1.4.1-py2.py3-none-any.whl (8.8 kB)\n",
      "Downloading jinja2-3.1.4-py3-none-any.whl (133 kB)\n",
      "Downloading requests-2.32.3-py3-none-any.whl (64 kB)\n",
      "Downloading snowballstemmer-2.2.0-py2.py3-none-any.whl (93 kB)\n",
      "Downloading sphinxcontrib_htmlhelp-2.1.0-py3-none-any.whl (98 kB)\n",
      "Downloading sphinxcontrib_serializinghtml-2.0.0-py3-none-any.whl (92 kB)\n",
      "Downloading sphinxcontrib_applehelp-2.0.0-py3-none-any.whl (119 kB)\n",
      "Downloading sphinxcontrib_devhelp-2.0.0-py3-none-any.whl (82 kB)\n",
      "Downloading sphinxcontrib_jsmath-1.0.1-py2.py3-none-any.whl (5.1 kB)\n",
      "Downloading sphinxcontrib_qthelp-2.0.0-py3-none-any.whl (88 kB)\n",
      "Downloading certifi-2024.8.30-py3-none-any.whl (167 kB)\n",
      "Downloading charset_normalizer-3.3.2-cp312-cp312-win_amd64.whl (100 kB)\n",
      "Downloading idna-3.8-py3-none-any.whl (66 kB)\n",
      "Downloading MarkupSafe-2.1.5-cp312-cp312-win_amd64.whl (17 kB)\n",
      "Downloading urllib3-2.2.2-py3-none-any.whl (121 kB)\n",
      "Installing collected packages: snowballstemmer, urllib3, sphinxcontrib-serializinghtml, sphinxcontrib-qthelp, sphinxcontrib-jsmath, sphinxcontrib-htmlhelp, sphinxcontrib-devhelp, sphinxcontrib-applehelp, MarkupSafe, imagesize, idna, docutils, charset-normalizer, certifi, babel, alabaster, requests, Jinja2, sphinx\n",
      "Successfully installed Jinja2-3.1.4 MarkupSafe-2.1.5 alabaster-1.0.0 babel-2.16.0 certifi-2024.8.30 charset-normalizer-3.3.2 docutils-0.21.2 idna-3.8 imagesize-1.4.1 requests-2.32.3 snowballstemmer-2.2.0 sphinx-8.0.2 sphinxcontrib-applehelp-2.0.0 sphinxcontrib-devhelp-2.0.0 sphinxcontrib-htmlhelp-2.1.0 sphinxcontrib-jsmath-1.0.1 sphinxcontrib-qthelp-2.0.0 sphinxcontrib-serializinghtml-2.0.0 urllib3-2.2.2\n",
      "Note: you may need to restart the kernel to use updated packages.\n"
     ]
    }
   ],
   "source": [
    "%pip install sphinx"
   ]
  },
  {
   "cell_type": "code",
   "execution_count": 1,
   "metadata": {},
   "outputs": [
    {
     "name": "stdout",
     "output_type": "stream",
     "text": [
      "c:\\Users\\gusta\\Documents\\GitHub\\NordicEC\\EC4py\\dev\n",
      "c:\\Users\\gusta\\Documents\\GitHub\\NordicEC\\EC4py\n",
      "c:\\Users\\gusta\\Documents\\GitHub\\NordicEC\\EC4py\\docs\n"
     ]
    },
    {
     "name": "stderr",
     "output_type": "stream",
     "text": [
      "c:\\Users\\gusta\\Documents\\GitHub\\NordicEC\\EC4py\\.venv\\Lib\\site-packages\\IPython\\core\\magics\\osm.py:417: UserWarning: This is now an optional IPython functionality, setting dhist requires you to install the `pickleshare` library.\n",
      "  self.shell.db['dhist'] = compress_dhist(dhist)[-100:]\n"
     ]
    },
    {
     "name": "stdout",
     "output_type": "stream",
     "text": [
      "^C\n"
     ]
    }
   ],
   "source": [
    "%cd ..\n",
    "%cd ..\n",
    "%cd docs\n",
    "!sphinx-quickstart"
   ]
  }
 ],
 "metadata": {
  "kernelspec": {
   "display_name": "Python 3",
   "language": "python",
   "name": "python3"
  },
  "language_info": {
   "codemirror_mode": {
    "name": "ipython",
    "version": 3
   },
   "file_extension": ".py",
   "mimetype": "text/x-python",
   "name": "python",
   "nbconvert_exporter": "python",
   "pygments_lexer": "ipython3",
   "version": "3.12.1"
  }
 },
 "nbformat": 4,
 "nbformat_minor": 2
}
