{
 "cells": [
  {
   "cell_type": "markdown",
   "metadata": {},
   "source": [
    "# Levich and Koutechy-Levich analysis notebook for CV data.\n",
    "\n",
    "## 1. Import needed libraries"
   ]
  },
  {
   "cell_type": "code",
   "execution_count": 1,
   "metadata": {},
   "outputs": [
    {
     "ename": "ImportError",
     "evalue": "cannot import name 'diffusion_limit_corr' from 'ec4py.analysis_tafel' (C:\\Users\\gusta\\Documents\\GitHub\\Python\\EC4py\\src\\ec4py\\analysis_tafel.py)",
     "output_type": "error",
     "traceback": [
      "\u001b[1;31m---------------------------------------------------------------------------\u001b[0m",
      "\u001b[1;31mImportError\u001b[0m                               Traceback (most recent call last)",
      "Cell \u001b[1;32mIn[1], line 2\u001b[0m\n\u001b[0;32m      1\u001b[0m \u001b[38;5;28;01mfrom\u001b[39;00m \u001b[38;5;21;01mpathlib\u001b[39;00m \u001b[38;5;28;01mimport\u001b[39;00m Path\n\u001b[1;32m----> 2\u001b[0m \u001b[38;5;28;01mfrom\u001b[39;00m \u001b[38;5;21;01mec4py\u001b[39;00m \u001b[38;5;28;01mimport\u001b[39;00m \u001b[38;5;241m*\u001b[39m\n\u001b[0;32m      3\u001b[0m \u001b[38;5;28;01mfrom\u001b[39;00m \u001b[38;5;21;01mec4py\u001b[39;00m \u001b[38;5;28;01mimport\u001b[39;00m Quantity_Value_Unit \u001b[38;5;28;01mas\u001b[39;00m QV\n",
      "File \u001b[1;32m~\\Documents\\GitHub\\Python\\EC4py\\src\\ec4py\\__init__.py:14\u001b[0m\n\u001b[0;32m     12\u001b[0m \u001b[38;5;28;01mfrom\u001b[39;00m \u001b[38;5;21;01m.\u001b[39;00m\u001b[38;5;21;01mec_data\u001b[39;00m \u001b[38;5;28;01mimport\u001b[39;00m EC_Data \n\u001b[0;32m     13\u001b[0m \u001b[38;5;28;01mfrom\u001b[39;00m \u001b[38;5;21;01m.\u001b[39;00m\u001b[38;5;21;01mec_datas\u001b[39;00m \u001b[38;5;28;01mimport\u001b[39;00m EC_Datas \n\u001b[1;32m---> 14\u001b[0m \u001b[38;5;28;01mfrom\u001b[39;00m \u001b[38;5;21;01m.\u001b[39;00m\u001b[38;5;21;01mcv_data\u001b[39;00m \u001b[38;5;28;01mimport\u001b[39;00m CV_Data\n\u001b[0;32m     15\u001b[0m \u001b[38;5;28;01mfrom\u001b[39;00m \u001b[38;5;21;01m.\u001b[39;00m\u001b[38;5;21;01mcv_datas\u001b[39;00m \u001b[38;5;28;01mimport\u001b[39;00m CV_Datas \n\u001b[0;32m     16\u001b[0m \u001b[38;5;28;01mfrom\u001b[39;00m \u001b[38;5;21;01m.\u001b[39;00m\u001b[38;5;21;01mstep_data\u001b[39;00m \u001b[38;5;28;01mimport\u001b[39;00m Step_Data \n",
      "File \u001b[1;32m~\\Documents\\GitHub\\Python\\EC4py\\src\\ec4py\\cv_data.py:19\u001b[0m\n\u001b[0;32m     17\u001b[0m \u001b[38;5;28;01mfrom\u001b[39;00m \u001b[38;5;21;01m.\u001b[39;00m\u001b[38;5;21;01mutil\u001b[39;00m \u001b[38;5;28;01mimport\u001b[39;00m Quantity_Value_Unit \u001b[38;5;28;01mas\u001b[39;00m Q_V\n\u001b[0;32m     18\u001b[0m \u001b[38;5;28;01mfrom\u001b[39;00m \u001b[38;5;21;01m.\u001b[39;00m\u001b[38;5;21;01mutil_graph\u001b[39;00m \u001b[38;5;28;01mimport\u001b[39;00m plot_options,quantity_plot_fix, make_plot_2x,make_plot_1x\n\u001b[1;32m---> 19\u001b[0m \u001b[38;5;28;01mfrom\u001b[39;00m \u001b[38;5;21;01m.\u001b[39;00m\u001b[38;5;21;01manalysis_tafel\u001b[39;00m \u001b[38;5;28;01mimport\u001b[39;00m Tafel,diffusion_limit_corr\n\u001b[0;32m     21\u001b[0m STYLE_POS_DL \u001b[38;5;241m=\u001b[39m \u001b[38;5;124m\"\u001b[39m\u001b[38;5;124mbo\u001b[39m\u001b[38;5;124m\"\u001b[39m\n\u001b[0;32m     22\u001b[0m STYLE_NEG_DL \u001b[38;5;241m=\u001b[39m \u001b[38;5;124m\"\u001b[39m\u001b[38;5;124mro\u001b[39m\u001b[38;5;124m\"\u001b[39m\n",
      "\u001b[1;31mImportError\u001b[0m: cannot import name 'diffusion_limit_corr' from 'ec4py.analysis_tafel' (C:\\Users\\gusta\\Documents\\GitHub\\Python\\EC4py\\src\\ec4py\\analysis_tafel.py)"
     ]
    }
   ],
   "source": [
    "from pathlib import Path\n",
    "from ec4py import *\n",
    "from ec4py import Quantity_Value_Unit as QV"
   ]
  },
  {
   "cell_type": "markdown",
   "metadata": {},
   "source": [
    "## 2.Make a list of paths to the data files."
   ]
  },
  {
   "cell_type": "code",
   "execution_count": null,
   "metadata": {},
   "outputs": [],
   "source": [
    "paths = []\n",
    "path_to_dataSetFolder = Path(\".\").cwd().parent.parent / \"test_data\" /\"Step\"\n",
    "print(path_to_dataSetFolder)\n",
    "#paths.append( path_to_dataSetFolder / \"CV_144913_ 3.tdms\")\n",
    "paths.append( path_to_dataSetFolder / \"Steps_102346.tdms\")\n",
    "paths.append( path_to_dataSetFolder / \"Steps_160307.tdms\")\n",
    "paths.append( path_to_dataSetFolder / \"Steps_102346.tdms\")\n",
    "paths.append( path_to_dataSetFolder / \"Steps_102346.tdms\")\n",
    "paths.append( path_to_dataSetFolder / \"Steps_102346.tdms\")\n",
    "paths.append( path_to_dataSetFolder / \"Steps_102346.tdms\")\n",
    "\n",
    "print()"
   ]
  },
  {
   "cell_type": "markdown",
   "metadata": {},
   "source": [
    "## 3. Load in the data files"
   ]
  },
  {
   "cell_type": "code",
   "execution_count": null,
   "metadata": {},
   "outputs": [],
   "source": [
    "d = Step_Data(paths[1])\n",
    "ds= Step_Datas(paths)\n",
    "d.setup\n"
   ]
  },
  {
   "cell_type": "code",
   "execution_count": null,
   "metadata": {},
   "outputs": [],
   "source": [
    "#b,p  = d.plot()\n",
    "d.plot(\"Time\",\"E\")\n",
    "a=d[0+1]\n",
    "b=d[6000+1]\n",
    "a,plot = a.plot(\"Time\",\"E\")\n",
    "b.plot(\"Time\",\"E\",plot=plot)\n",
    "e =Step_Datas(\"\")\n",
    "e.datas = d[0:100:3]\n",
    "e.plot()"
   ]
  },
  {
   "cell_type": "code",
   "execution_count": null,
   "metadata": {},
   "outputs": [],
   "source": [
    "e =Step_Datas(\"\")\n",
    "e.datas = d[0:100:3]\n",
    "e.plot()"
   ]
  },
  {
   "cell_type": "code",
   "execution_count": null,
   "metadata": {},
   "outputs": [],
   "source": [
    "print(d.setup)\n",
    "aa= d.setup_data._setup\n",
    "aa[\"Step.E\"]\n",
    "aa[\"Step.E\"]\n",
    "bb= aa[\"Step.Time\"]\n",
    "print(bb)\n",
    "cc= bb.split(\";\", -1)\n",
    "print(cc)"
   ]
  },
  {
   "cell_type": "code",
   "execution_count": null,
   "metadata": {},
   "outputs": [],
   "source": [
    "d0=d.get_step(0)\n",
    "len(d.Time)\n",
    "\n",
    "d0.setup"
   ]
  },
  {
   "cell_type": "code",
   "execution_count": null,
   "metadata": {},
   "outputs": [],
   "source": [
    "d0.plot(plot=p)"
   ]
  }
 ],
 "metadata": {
  "kernelspec": {
   "display_name": "Python 3",
   "language": "python",
   "name": "python3"
  },
  "language_info": {
   "codemirror_mode": {
    "name": "ipython",
    "version": 3
   },
   "file_extension": ".py",
   "mimetype": "text/x-python",
   "name": "python",
   "nbconvert_exporter": "python",
   "pygments_lexer": "ipython3",
   "version": "3.12.1"
  }
 },
 "nbformat": 4,
 "nbformat_minor": 2
}
